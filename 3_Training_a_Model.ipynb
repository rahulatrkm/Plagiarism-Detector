{
  "nbformat": 4,
  "nbformat_minor": 0,
  "metadata": {
    "kernelspec": {
      "name": "python3",
      "display_name": "Python 3"
    },
    "colab": {
      "name": "3_Training_a_Model.ipynb",
      "provenance": [],
      "toc_visible": true
    },
    "accelerator": "GPU"
  },
  "cells": [
    {
      "cell_type": "markdown",
      "metadata": {
        "id": "o7SgUi521Usb",
        "colab_type": "text"
      },
      "source": [
        "# Plagiarism Detection Model\n",
        "\n",
        "Now that you've created training and test data, you are ready to define and train a model. Your goal in this notebook, will be to train a binary classification model that learns to label an answer file as either plagiarized or not, based on the features you provide the model.\n",
        "\n",
        "This task will be broken down into a few discrete steps:\n",
        "\n",
        "* Upload your data to S3.\n",
        "* Define a binary classification model and a training script.\n",
        "* Train your model and deploy it.\n",
        "* Evaluate your deployed classifier and answer some questions about your approach.\n",
        "\n",
        "To complete this notebook, you'll have to complete all given exercises and answer all the questions in this notebook.\n",
        "> All your tasks will be clearly labeled **EXERCISE** and questions as **QUESTION**.\n",
        "\n",
        "It will be up to you to explore different classification models and decide on a model that gives you the best performance for this dataset.\n",
        "\n",
        "---"
      ]
    },
    {
      "cell_type": "markdown",
      "metadata": {
        "id": "JoHoBmT21Usj",
        "colab_type": "text"
      },
      "source": [
        "## Load Data to S3\n",
        "\n",
        "In the last notebook, you should have created two files: a `training.csv` and `test.csv` file with the features and class labels for the given corpus of plagiarized/non-plagiarized text data. \n",
        "\n",
        ">The below cells load in some AWS SageMaker libraries and creates a default bucket. After creating this bucket, you can upload your locally stored data to S3.\n",
        "\n",
        "Save your train and test `.csv` feature files, locally. To do this you can run the second notebook \"2_Plagiarism_Feature_Engineering\" in SageMaker or you can manually upload your files to this notebook using the upload icon in Jupyter Lab. Then you can upload local files to S3 by using `sagemaker_session.upload_data` and pointing directly to where the training data is saved."
      ]
    },
    {
      "cell_type": "code",
      "metadata": {
        "id": "pQAg6YaE1Usl",
        "colab_type": "code",
        "colab": {}
      },
      "source": [
        "import pandas as pd\n",
        "import boto3\n",
        "import sagemaker"
      ],
      "execution_count": 0,
      "outputs": []
    },
    {
      "cell_type": "code",
      "metadata": {
        "id": "y2XRwa811Uss",
        "colab_type": "code",
        "colab": {}
      },
      "source": [
        "\"\"\"\n",
        "DON'T MODIFY ANYTHING IN THIS CELL THAT IS BELOW THIS LINE\n",
        "\"\"\"\n",
        "# session and role\n",
        "sagemaker_session = sagemaker.Session()\n",
        "role = sagemaker.get_execution_role()\n",
        "\n",
        "# create an S3 bucket\n",
        "bucket = sagemaker_session.default_bucket()"
      ],
      "execution_count": 0,
      "outputs": []
    },
    {
      "cell_type": "markdown",
      "metadata": {
        "id": "7Gyd4sKz1Usy",
        "colab_type": "text"
      },
      "source": [
        "## EXERCISE: Upload your training data to S3\n",
        "\n",
        "Specify the `data_dir` where you've saved your `train.csv` file. Decide on a descriptive `prefix` that defines where your data will be uploaded in the default S3 bucket. Finally, create a pointer to your training data by calling `sagemaker_session.upload_data` and passing in the required parameters. It may help to look at the [Session documentation](https://sagemaker.readthedocs.io/en/stable/session.html#sagemaker.session.Session.upload_data) or previous SageMaker code examples.\n",
        "\n",
        "You are expected to upload your entire directory. Later, the training script will only access the `train.csv` file."
      ]
    },
    {
      "cell_type": "code",
      "metadata": {
        "id": "0H5NZbdJ1Usz",
        "colab_type": "code",
        "colab": {
          "base_uri": "https://localhost:8080/",
          "height": 217
        },
        "outputId": "6ab9cb85-2182-40a1-dbcd-6ace40629fb1"
      },
      "source": [
        "# should be the name of directory you created to save your features data\n",
        "data_dir = 'plagiarism_data'\n",
        "\n",
        "# set prefix, a descriptive name for a directory  \n",
        "prefix = 'plagiarism'\n",
        "\n",
        "# upload all data to S3\n",
        "input_data = sagemaker_session.upload_data(path=data_dir, bucket=bucket, key_prefix=prefix)"
      ],
      "execution_count": 1,
      "outputs": [
        {
          "output_type": "error",
          "ename": "NameError",
          "evalue": "ignored",
          "traceback": [
            "\u001b[0;31m---------------------------------------------------------------------------\u001b[0m",
            "\u001b[0;31mNameError\u001b[0m                                 Traceback (most recent call last)",
            "\u001b[0;32m<ipython-input-1-2df2da908ee9>\u001b[0m in \u001b[0;36m<module>\u001b[0;34m()\u001b[0m\n\u001b[1;32m      5\u001b[0m \u001b[0;34m\u001b[0m\u001b[0m\n\u001b[1;32m      6\u001b[0m \u001b[0;31m# upload all data to S3\u001b[0m\u001b[0;34m\u001b[0m\u001b[0;34m\u001b[0m\u001b[0;34m\u001b[0m\u001b[0m\n\u001b[0;32m----> 7\u001b[0;31m \u001b[0minput_data\u001b[0m \u001b[0;34m=\u001b[0m \u001b[0msagemaker_session\u001b[0m\u001b[0;34m.\u001b[0m\u001b[0mupload_data\u001b[0m\u001b[0;34m(\u001b[0m\u001b[0mpath\u001b[0m\u001b[0;34m=\u001b[0m\u001b[0mdata_dir\u001b[0m\u001b[0;34m,\u001b[0m \u001b[0mbucket\u001b[0m\u001b[0;34m=\u001b[0m\u001b[0mbucket\u001b[0m\u001b[0;34m,\u001b[0m \u001b[0mkey_prefix\u001b[0m\u001b[0;34m=\u001b[0m\u001b[0mprefix\u001b[0m\u001b[0;34m)\u001b[0m\u001b[0;34m\u001b[0m\u001b[0;34m\u001b[0m\u001b[0m\n\u001b[0m",
            "\u001b[0;31mNameError\u001b[0m: name 'sagemaker_session' is not defined"
          ]
        }
      ]
    },
    {
      "cell_type": "markdown",
      "metadata": {
        "id": "QktcuD-v1Us3",
        "colab_type": "text"
      },
      "source": [
        "### Test cell\n",
        "\n",
        "Test that your data has been successfully uploaded. The below cell prints out the items in your S3 bucket and will throw an error if it is empty. You should see the contents of your `data_dir` and perhaps some checkpoints. If you see any other files listed, then you may have some old model files that you can delete via the S3 console (though, additional files shouldn't affect the performance of model developed in this notebook)."
      ]
    },
    {
      "cell_type": "code",
      "metadata": {
        "id": "rqaBQ9N-1Us4",
        "colab_type": "code",
        "colab": {}
      },
      "source": [
        "\"\"\"\n",
        "DON'T MODIFY ANYTHING IN THIS CELL THAT IS BELOW THIS LINE\n",
        "\"\"\"\n",
        "# confirm that data is in S3 bucket\n",
        "empty_check = []\n",
        "for obj in boto3.resource('s3').Bucket(bucket).objects.all():\n",
        "    empty_check.append(obj.key)\n",
        "    print(obj.key)\n",
        "\n",
        "assert len(empty_check) !=0, 'S3 bucket is empty.'\n",
        "print('Test passed!')"
      ],
      "execution_count": 0,
      "outputs": []
    },
    {
      "cell_type": "markdown",
      "metadata": {
        "id": "QMii5T9e1Us8",
        "colab_type": "text"
      },
      "source": [
        "---\n",
        "\n",
        "# Modeling\n",
        "\n",
        "Now that you've uploaded your training data, it's time to define and train a model!\n",
        "\n",
        "The type of model you create is up to you. For a binary classification task, you can choose to go one of three routes:\n",
        "* Use a built-in classification algorithm, like LinearLearner.\n",
        "* Define a custom Scikit-learn classifier, a comparison of models can be found [here](https://scikit-learn.org/stable/auto_examples/classification/plot_classifier_comparison.html).\n",
        "* Define a custom PyTorch neural network classifier. \n",
        "\n",
        "It will be up to you to test out a variety of models and choose the best one. Your project will be graded on the accuracy of your final model. \n",
        " \n",
        "---\n",
        "\n",
        "## EXERCISE: Complete a training script \n",
        "\n",
        "To implement a custom classifier, you'll need to complete a `train.py` script. You've been given the folders `source_sklearn` and `source_pytorch` which hold starting code for a custom Scikit-learn model and a PyTorch model, respectively. Each directory has a `train.py` training script. To complete this project **you only need to complete one of these scripts**; the script that is responsible for training your final model.\n",
        "\n",
        "A typical training script:\n",
        "* Loads training data from a specified directory\n",
        "* Parses any training & model hyperparameters (ex. nodes in a neural network, training epochs, etc.)\n",
        "* Instantiates a model of your design, with any specified hyperparams\n",
        "* Trains that model \n",
        "* Finally, saves the model so that it can be hosted/deployed, later\n",
        "\n",
        "### Defining and training a model\n",
        "Much of the training script code is provided for you. Almost all of your work will be done in the `if __name__ == '__main__':` section. To complete a `train.py` file, you will:\n",
        "1. Import any extra libraries you need\n",
        "2. Define any additional model training hyperparameters using `parser.add_argument`\n",
        "2. Define a model in the `if __name__ == '__main__':` section\n",
        "3. Train the model in that same section\n",
        "\n",
        "Below, you can use `!pygmentize` to display an existing `train.py` file. Read through the code; all of your tasks are marked with `TODO` comments. \n",
        "\n",
        "**Note: If you choose to create a custom PyTorch model, you will be responsible for defining the model in the `model.py` file,** and a `predict.py` file is provided. If you choose to use Scikit-learn, you only need a `train.py` file; you may import a classifier from the `sklearn` library."
      ]
    },
    {
      "cell_type": "code",
      "metadata": {
        "id": "f1d2v_-H1Us9",
        "colab_type": "code",
        "colab": {
          "base_uri": "https://localhost:8080/",
          "height": 1000
        },
        "outputId": "7714560a-a113-4d42-a2b3-11892dfff4f2"
      },
      "source": [
        "# directory can be changed to: source_sklearn or source_pytorch\n",
        "!pygmentize source_sklearn/train.py"
      ],
      "execution_count": 2,
      "outputs": [
        {
          "output_type": "stream",
          "text": [
            "\u001b[34mfrom\u001b[39;49;00m \u001b[04m\u001b[36m__future__\u001b[39;49;00m \u001b[34mimport\u001b[39;49;00m print_function\n",
            "\n",
            "\u001b[34mimport\u001b[39;49;00m \u001b[04m\u001b[36margparse\u001b[39;49;00m\n",
            "\u001b[34mimport\u001b[39;49;00m \u001b[04m\u001b[36mos\u001b[39;49;00m\n",
            "\u001b[34mimport\u001b[39;49;00m \u001b[04m\u001b[36mpandas\u001b[39;49;00m \u001b[34mas\u001b[39;49;00m \u001b[04m\u001b[36mpd\u001b[39;49;00m\n",
            "\n",
            "\u001b[34mfrom\u001b[39;49;00m \u001b[04m\u001b[36msklearn.externals\u001b[39;49;00m \u001b[34mimport\u001b[39;49;00m joblib\n",
            "\n",
            "\u001b[37m## TODO: Import any additional libraries you need to define a model\u001b[39;49;00m\n",
            "\n",
            "\n",
            "\u001b[37m# Provided model load function\u001b[39;49;00m\n",
            "\u001b[34mdef\u001b[39;49;00m \u001b[32mmodel_fn\u001b[39;49;00m(model_dir):\n",
            "    \u001b[33m\"\"\"Load model from the model_dir. This is the same model that is saved\u001b[39;49;00m\n",
            "\u001b[33m    in the main if statement.\u001b[39;49;00m\n",
            "\u001b[33m    \"\"\"\u001b[39;49;00m\n",
            "    \u001b[34mprint\u001b[39;49;00m(\u001b[33m\"\u001b[39;49;00m\u001b[33mLoading model.\u001b[39;49;00m\u001b[33m\"\u001b[39;49;00m)\n",
            "    \n",
            "    \u001b[37m# load using joblib\u001b[39;49;00m\n",
            "    model = joblib.load(os.path.join(model_dir, \u001b[33m\"\u001b[39;49;00m\u001b[33mmodel.joblib\u001b[39;49;00m\u001b[33m\"\u001b[39;49;00m))\n",
            "    \u001b[34mprint\u001b[39;49;00m(\u001b[33m\"\u001b[39;49;00m\u001b[33mDone loading model.\u001b[39;49;00m\u001b[33m\"\u001b[39;49;00m)\n",
            "    \n",
            "    \u001b[34mreturn\u001b[39;49;00m model\n",
            "\n",
            "\n",
            "\u001b[37m## TODO: Complete the main code\u001b[39;49;00m\n",
            "\u001b[34mif\u001b[39;49;00m __name__ == \u001b[33m'\u001b[39;49;00m\u001b[33m__main__\u001b[39;49;00m\u001b[33m'\u001b[39;49;00m:\n",
            "    \n",
            "    \u001b[37m# All of the model parameters and training parameters are sent as arguments\u001b[39;49;00m\n",
            "    \u001b[37m# when this script is executed, during a training job\u001b[39;49;00m\n",
            "    \n",
            "    \u001b[37m# Here we set up an argument parser to easily access the parameters\u001b[39;49;00m\n",
            "    parser = argparse.ArgumentParser()\n",
            "\n",
            "    \u001b[37m# SageMaker parameters, like the directories for training data and saving models; set automatically\u001b[39;49;00m\n",
            "    \u001b[37m# Do not need to change\u001b[39;49;00m\n",
            "    parser.add_argument(\u001b[33m'\u001b[39;49;00m\u001b[33m--output-data-dir\u001b[39;49;00m\u001b[33m'\u001b[39;49;00m, \u001b[36mtype\u001b[39;49;00m=\u001b[36mstr\u001b[39;49;00m, default=os.environ[\u001b[33m'\u001b[39;49;00m\u001b[33mSM_OUTPUT_DATA_DIR\u001b[39;49;00m\u001b[33m'\u001b[39;49;00m])\n",
            "    parser.add_argument(\u001b[33m'\u001b[39;49;00m\u001b[33m--model-dir\u001b[39;49;00m\u001b[33m'\u001b[39;49;00m, \u001b[36mtype\u001b[39;49;00m=\u001b[36mstr\u001b[39;49;00m, default=os.environ[\u001b[33m'\u001b[39;49;00m\u001b[33mSM_MODEL_DIR\u001b[39;49;00m\u001b[33m'\u001b[39;49;00m])\n",
            "    parser.add_argument(\u001b[33m'\u001b[39;49;00m\u001b[33m--data-dir\u001b[39;49;00m\u001b[33m'\u001b[39;49;00m, \u001b[36mtype\u001b[39;49;00m=\u001b[36mstr\u001b[39;49;00m, default=os.environ[\u001b[33m'\u001b[39;49;00m\u001b[33mSM_CHANNEL_TRAIN\u001b[39;49;00m\u001b[33m'\u001b[39;49;00m])\n",
            "    \n",
            "    \u001b[37m## TODO: Add any additional arguments that you will need to pass into your model\u001b[39;49;00m\n",
            "    \n",
            "    \u001b[37m# args holds all passed-in arguments\u001b[39;49;00m\n",
            "    args = parser.parse_args()\n",
            "\n",
            "    \u001b[37m# Read in csv training file\u001b[39;49;00m\n",
            "    training_dir = args.data_dir\n",
            "    train_data = pd.read_csv(os.path.join(training_dir, \u001b[33m\"\u001b[39;49;00m\u001b[33mtrain.csv\u001b[39;49;00m\u001b[33m\"\u001b[39;49;00m), header=\u001b[36mNone\u001b[39;49;00m, names=\u001b[36mNone\u001b[39;49;00m)\n",
            "\n",
            "    \u001b[37m# Labels are in the first column\u001b[39;49;00m\n",
            "    train_y = train_data.iloc[:,\u001b[34m0\u001b[39;49;00m]\n",
            "    train_x = train_data.iloc[:,\u001b[34m1\u001b[39;49;00m:]\n",
            "    \n",
            "    \n",
            "    \u001b[37m## --- Your code here --- ##\u001b[39;49;00m\n",
            "    \n",
            "\n",
            "    \u001b[37m## TODO: Define a model \u001b[39;49;00m\n",
            "    model = \u001b[36mNone\u001b[39;49;00m\n",
            "    \n",
            "    \n",
            "    \u001b[37m## TODO: Train the model\u001b[39;49;00m\n",
            "    \n",
            "    \n",
            "    \n",
            "    \u001b[37m## --- End of your code  --- ##\u001b[39;49;00m\n",
            "    \n",
            "\n",
            "    \u001b[37m# Save the trained model\u001b[39;49;00m\n",
            "    joblib.dump(model, os.path.join(args.model_dir, \u001b[33m\"\u001b[39;49;00m\u001b[33mmodel.joblib\u001b[39;49;00m\u001b[33m\"\u001b[39;49;00m))\n"
          ],
          "name": "stdout"
        }
      ]
    },
    {
      "cell_type": "markdown",
      "metadata": {
        "id": "eiRw5iKG1UtD",
        "colab_type": "text"
      },
      "source": [
        "### Provided code\n",
        "\n",
        "If you read the code above, you can see that the starter code includes a few things:\n",
        "* Model loading (`model_fn`) and saving code\n",
        "* Getting SageMaker's default hyperparameters\n",
        "* Loading the training data by name, `train.csv` and extracting the features and labels, `train_x`, and `train_y`\n",
        "\n",
        "If you'd like to read more about model saving with [joblib for sklearn](https://scikit-learn.org/stable/modules/model_persistence.html) or with [torch.save](https://pytorch.org/tutorials/beginner/saving_loading_models.html), click on the provided links."
      ]
    },
    {
      "cell_type": "markdown",
      "metadata": {
        "id": "nx9ybrmN1UtF",
        "colab_type": "text"
      },
      "source": [
        "---\n",
        "# Create an Estimator\n",
        "\n",
        "When a custom model is constructed in SageMaker, an entry point must be specified. This is the Python file which will be executed when the model is trained; the `train.py` function you specified above. To run a custom training script in SageMaker, construct an estimator, and fill in the appropriate constructor arguments:\n",
        "\n",
        "* **entry_point**: The path to the Python script SageMaker runs for training and prediction.\n",
        "* **source_dir**: The path to the training script directory `source_sklearn` OR `source_pytorch`.\n",
        "* **entry_point**: The path to the Python script SageMaker runs for training and prediction.\n",
        "* **source_dir**: The path to the training script directory `train_sklearn` OR `train_pytorch`.\n",
        "* **entry_point**: The path to the Python script SageMaker runs for training.\n",
        "* **source_dir**: The path to the training script directory `train_sklearn` OR `train_pytorch`.\n",
        "* **role**: Role ARN, which was specified, above.\n",
        "* **train_instance_count**: The number of training instances (should be left at 1).\n",
        "* **train_instance_type**: The type of SageMaker instance for training. Note: Because Scikit-learn does not natively support GPU training, Sagemaker Scikit-learn does not currently support training on GPU instance types.\n",
        "* **sagemaker_session**: The session used to train on Sagemaker.\n",
        "* **hyperparameters** (optional): A dictionary `{'name':value, ..}` passed to the train function as hyperparameters.\n",
        "\n",
        "Note: For a PyTorch model, there is another optional argument **framework_version**, which you can set to the latest version of PyTorch, `1.0`.\n",
        "\n",
        "## EXERCISE: Define a Scikit-learn or PyTorch estimator\n",
        "\n",
        "To import your desired estimator, use one of the following lines:\n",
        "```\n",
        "from sagemaker.sklearn.estimator import SKLearn\n",
        "```\n",
        "```\n",
        "from sagemaker.pytorch import PyTorch\n",
        "```"
      ]
    },
    {
      "cell_type": "code",
      "metadata": {
        "id": "Be3B4QzP1UtG",
        "colab_type": "code",
        "colab": {}
      },
      "source": [
        "# your import and estimator code, here\n",
        "from sagemaker.sklearn.estimator import SKLearn\n",
        "\n",
        "estimator = SKLearn(entry_point=\"train.py\",\n",
        "                    source_dir=\"source_sklearn\",\n",
        "                    role=role,\n",
        "                    train_instance_count=1,\n",
        "                    train_instance_type='ml.c4.xlarge')"
      ],
      "execution_count": 0,
      "outputs": []
    },
    {
      "cell_type": "markdown",
      "metadata": {
        "id": "_r2GiZ9c1UtK",
        "colab_type": "text"
      },
      "source": [
        "## EXERCISE: Train the estimator\n",
        "\n",
        "Train your estimator on the training data stored in S3. This should create a training job that you can monitor in your SageMaker console."
      ]
    },
    {
      "cell_type": "code",
      "metadata": {
        "id": "cshjb-NX1UtL",
        "colab_type": "code",
        "colab": {}
      },
      "source": [
        "%%time\n",
        "\n",
        "# Train your estimator on S3 training data\n",
        "estimator.fit({'train': input_data})"
      ],
      "execution_count": 0,
      "outputs": []
    },
    {
      "cell_type": "markdown",
      "metadata": {
        "id": "wYmXkHTA1UtQ",
        "colab_type": "text"
      },
      "source": [
        "## EXERCISE: Deploy the trained model\n",
        "\n",
        "After training, deploy your model to create a `predictor`. If you're using a PyTorch model, you'll need to create a trained `PyTorchModel` that accepts the trained `<model>.model_data` as an input parameter and points to the provided `source_pytorch/predict.py` file as an entry point. \n",
        "\n",
        "To deploy a trained model, you'll use `<model>.deploy`, which takes in two arguments:\n",
        "* **initial_instance_count**: The number of deployed instances (1).\n",
        "* **instance_type**: The type of SageMaker instance for deployment.\n",
        "\n",
        "Note: If you run into an instance error, it may be because you chose the wrong training or deployment instance_type. It may help to refer to your previous exercise code to see which types of instances we used."
      ]
    },
    {
      "cell_type": "code",
      "metadata": {
        "id": "1IDj1sef1UtT",
        "colab_type": "code",
        "colab": {
          "base_uri": "https://localhost:8080/",
          "height": 394
        },
        "outputId": "01fca3cc-fc18-4d45-ec91-10e9eb668cf0"
      },
      "source": [
        "%%time\n",
        "\n",
        "# uncomment, if needed\n",
        "# from sagemaker.pytorch import PyTorchModel\n",
        "\n",
        "\n",
        "# deploy your model to create a predictor\n",
        "predictor = estimator.deploy(initial_instance_count=1, instance_type=\"ml.m4.xlarge\")\n"
      ],
      "execution_count": 1,
      "outputs": [
        {
          "output_type": "error",
          "ename": "NameError",
          "evalue": "ignored",
          "traceback": [
            "\u001b[0;31m---------------------------------------------------------------------------\u001b[0m",
            "\u001b[0;31mNameError\u001b[0m                                 Traceback (most recent call last)",
            "\u001b[0;32m<ipython-input-1-51ce0554ebd4>\u001b[0m in \u001b[0;36m<module>\u001b[0;34m()\u001b[0m\n\u001b[0;32m----> 1\u001b[0;31m \u001b[0mget_ipython\u001b[0m\u001b[0;34m(\u001b[0m\u001b[0;34m)\u001b[0m\u001b[0;34m.\u001b[0m\u001b[0mrun_cell_magic\u001b[0m\u001b[0;34m(\u001b[0m\u001b[0;34m'time'\u001b[0m\u001b[0;34m,\u001b[0m \u001b[0;34m''\u001b[0m\u001b[0;34m,\u001b[0m \u001b[0;34m'\\n# uncomment, if needed\\n# from sagemaker.pytorch import PyTorchModel\\n\\n\\n# deploy your model to create a predictor\\npredictor = estimator.deploy(initial_instance_count=1, instance_type=\"ml.m4.xlarge\")'\u001b[0m\u001b[0;34m)\u001b[0m\u001b[0;34m\u001b[0m\u001b[0;34m\u001b[0m\u001b[0m\n\u001b[0m",
            "\u001b[0;32m/usr/local/lib/python3.6/dist-packages/IPython/core/interactiveshell.py\u001b[0m in \u001b[0;36mrun_cell_magic\u001b[0;34m(self, magic_name, line, cell)\u001b[0m\n\u001b[1;32m   2115\u001b[0m             \u001b[0mmagic_arg_s\u001b[0m \u001b[0;34m=\u001b[0m \u001b[0mself\u001b[0m\u001b[0;34m.\u001b[0m\u001b[0mvar_expand\u001b[0m\u001b[0;34m(\u001b[0m\u001b[0mline\u001b[0m\u001b[0;34m,\u001b[0m \u001b[0mstack_depth\u001b[0m\u001b[0;34m)\u001b[0m\u001b[0;34m\u001b[0m\u001b[0;34m\u001b[0m\u001b[0m\n\u001b[1;32m   2116\u001b[0m             \u001b[0;32mwith\u001b[0m \u001b[0mself\u001b[0m\u001b[0;34m.\u001b[0m\u001b[0mbuiltin_trap\u001b[0m\u001b[0;34m:\u001b[0m\u001b[0;34m\u001b[0m\u001b[0;34m\u001b[0m\u001b[0m\n\u001b[0;32m-> 2117\u001b[0;31m                 \u001b[0mresult\u001b[0m \u001b[0;34m=\u001b[0m \u001b[0mfn\u001b[0m\u001b[0;34m(\u001b[0m\u001b[0mmagic_arg_s\u001b[0m\u001b[0;34m,\u001b[0m \u001b[0mcell\u001b[0m\u001b[0;34m)\u001b[0m\u001b[0;34m\u001b[0m\u001b[0;34m\u001b[0m\u001b[0m\n\u001b[0m\u001b[1;32m   2118\u001b[0m             \u001b[0;32mreturn\u001b[0m \u001b[0mresult\u001b[0m\u001b[0;34m\u001b[0m\u001b[0;34m\u001b[0m\u001b[0m\n\u001b[1;32m   2119\u001b[0m \u001b[0;34m\u001b[0m\u001b[0m\n",
            "\u001b[0;32m</usr/local/lib/python3.6/dist-packages/decorator.py:decorator-gen-60>\u001b[0m in \u001b[0;36mtime\u001b[0;34m(self, line, cell, local_ns)\u001b[0m\n",
            "\u001b[0;32m/usr/local/lib/python3.6/dist-packages/IPython/core/magic.py\u001b[0m in \u001b[0;36m<lambda>\u001b[0;34m(f, *a, **k)\u001b[0m\n\u001b[1;32m    186\u001b[0m     \u001b[0;31m# but it's overkill for just that one bit of state.\u001b[0m\u001b[0;34m\u001b[0m\u001b[0;34m\u001b[0m\u001b[0;34m\u001b[0m\u001b[0m\n\u001b[1;32m    187\u001b[0m     \u001b[0;32mdef\u001b[0m \u001b[0mmagic_deco\u001b[0m\u001b[0;34m(\u001b[0m\u001b[0marg\u001b[0m\u001b[0;34m)\u001b[0m\u001b[0;34m:\u001b[0m\u001b[0;34m\u001b[0m\u001b[0;34m\u001b[0m\u001b[0m\n\u001b[0;32m--> 188\u001b[0;31m         \u001b[0mcall\u001b[0m \u001b[0;34m=\u001b[0m \u001b[0;32mlambda\u001b[0m \u001b[0mf\u001b[0m\u001b[0;34m,\u001b[0m \u001b[0;34m*\u001b[0m\u001b[0ma\u001b[0m\u001b[0;34m,\u001b[0m \u001b[0;34m**\u001b[0m\u001b[0mk\u001b[0m\u001b[0;34m:\u001b[0m \u001b[0mf\u001b[0m\u001b[0;34m(\u001b[0m\u001b[0;34m*\u001b[0m\u001b[0ma\u001b[0m\u001b[0;34m,\u001b[0m \u001b[0;34m**\u001b[0m\u001b[0mk\u001b[0m\u001b[0;34m)\u001b[0m\u001b[0;34m\u001b[0m\u001b[0;34m\u001b[0m\u001b[0m\n\u001b[0m\u001b[1;32m    189\u001b[0m \u001b[0;34m\u001b[0m\u001b[0m\n\u001b[1;32m    190\u001b[0m         \u001b[0;32mif\u001b[0m \u001b[0mcallable\u001b[0m\u001b[0;34m(\u001b[0m\u001b[0marg\u001b[0m\u001b[0;34m)\u001b[0m\u001b[0;34m:\u001b[0m\u001b[0;34m\u001b[0m\u001b[0;34m\u001b[0m\u001b[0m\n",
            "\u001b[0;32m/usr/local/lib/python3.6/dist-packages/IPython/core/magics/execution.py\u001b[0m in \u001b[0;36mtime\u001b[0;34m(self, line, cell, local_ns)\u001b[0m\n\u001b[1;32m   1191\u001b[0m         \u001b[0;32melse\u001b[0m\u001b[0;34m:\u001b[0m\u001b[0;34m\u001b[0m\u001b[0;34m\u001b[0m\u001b[0m\n\u001b[1;32m   1192\u001b[0m             \u001b[0mst\u001b[0m \u001b[0;34m=\u001b[0m \u001b[0mclock2\u001b[0m\u001b[0;34m(\u001b[0m\u001b[0;34m)\u001b[0m\u001b[0;34m\u001b[0m\u001b[0;34m\u001b[0m\u001b[0m\n\u001b[0;32m-> 1193\u001b[0;31m             \u001b[0mexec\u001b[0m\u001b[0;34m(\u001b[0m\u001b[0mcode\u001b[0m\u001b[0;34m,\u001b[0m \u001b[0mglob\u001b[0m\u001b[0;34m,\u001b[0m \u001b[0mlocal_ns\u001b[0m\u001b[0;34m)\u001b[0m\u001b[0;34m\u001b[0m\u001b[0;34m\u001b[0m\u001b[0m\n\u001b[0m\u001b[1;32m   1194\u001b[0m             \u001b[0mend\u001b[0m \u001b[0;34m=\u001b[0m \u001b[0mclock2\u001b[0m\u001b[0;34m(\u001b[0m\u001b[0;34m)\u001b[0m\u001b[0;34m\u001b[0m\u001b[0;34m\u001b[0m\u001b[0m\n\u001b[1;32m   1195\u001b[0m             \u001b[0mout\u001b[0m \u001b[0;34m=\u001b[0m \u001b[0;32mNone\u001b[0m\u001b[0;34m\u001b[0m\u001b[0;34m\u001b[0m\u001b[0m\n",
            "\u001b[0;32m<timed exec>\u001b[0m in \u001b[0;36m<module>\u001b[0;34m()\u001b[0m\n",
            "\u001b[0;31mNameError\u001b[0m: name 'estimator' is not defined"
          ]
        }
      ]
    },
    {
      "cell_type": "markdown",
      "metadata": {
        "id": "eT8oHior1UtY",
        "colab_type": "text"
      },
      "source": [
        "---\n",
        "# Evaluating Your Model\n",
        "\n",
        "Once your model is deployed, you can see how it performs when applied to our test data.\n",
        "\n",
        "The provided cell below, reads in the test data, assuming it is stored locally in `data_dir` and named `test.csv`. The labels and features are extracted from the `.csv` file."
      ]
    },
    {
      "cell_type": "code",
      "metadata": {
        "id": "d4pVQuqg1UtZ",
        "colab_type": "code",
        "colab": {}
      },
      "source": [
        "\"\"\"\n",
        "DON'T MODIFY ANYTHING IN THIS CELL THAT IS BELOW THIS LINE\n",
        "\"\"\"\n",
        "import os\n",
        "\n",
        "# read in test data, assuming it is stored locally\n",
        "test_data = pd.read_csv(os.path.join(data_dir, \"test.csv\"), header=None, names=None)\n",
        "\n",
        "# labels are in the first column\n",
        "test_y = test_data.iloc[:,0]\n",
        "test_x = test_data.iloc[:,1:]"
      ],
      "execution_count": 0,
      "outputs": []
    },
    {
      "cell_type": "markdown",
      "metadata": {
        "id": "r7hXXDno1Utc",
        "colab_type": "text"
      },
      "source": [
        "## EXERCISE: Determine the accuracy of your model\n",
        "\n",
        "Use your deployed `predictor` to generate predicted, class labels for the test data. Compare those to the *true* labels, `test_y`, and calculate the accuracy as a value between 0 and 1.0 that indicates the fraction of test data that your model classified correctly. You may use [sklearn.metrics](https://scikit-learn.org/stable/modules/classes.html#module-sklearn.metrics) for this calculation.\n",
        "\n",
        "**To pass this project, your model should get at least 90% test accuracy.**"
      ]
    },
    {
      "cell_type": "code",
      "metadata": {
        "id": "y8cpKYic1Ute",
        "colab_type": "code",
        "colab": {}
      },
      "source": [
        "# First: generate predicted, class labels\n",
        "test_y_preds = predictor.predict(test_x)\n",
        "\n",
        "\n",
        "\"\"\"\n",
        "DON'T MODIFY ANYTHING IN THIS CELL THAT IS BELOW THIS LINE\n",
        "\"\"\"\n",
        "# test that your model generates the correct number of labels\n",
        "assert len(test_y_preds)==len(test_y), 'Unexpected number of predictions.'\n",
        "print('Test passed!')"
      ],
      "execution_count": 0,
      "outputs": []
    },
    {
      "cell_type": "code",
      "metadata": {
        "id": "EInCLqyr1Uth",
        "colab_type": "code",
        "colab": {}
      },
      "source": [
        "# Second: calculate the test accuracy\n",
        "from sklearn.metrics import accuracy_score\n",
        "accuracy = accuracy_score(test_y, test_y_preds)\n",
        "\n",
        "print(accuracy)\n",
        "\n",
        "\n",
        "## print out the array of predicted and true labels, if you want\n",
        "print('\\nPredicted class labels: ')\n",
        "print(test_y_preds)\n",
        "print('\\nTrue class labels: ')\n",
        "print(test_y.values)"
      ],
      "execution_count": 0,
      "outputs": []
    },
    {
      "cell_type": "markdown",
      "metadata": {
        "id": "161M17PD1Utl",
        "colab_type": "text"
      },
      "source": [
        "### Question 1: How many false positives and false negatives did your model produce, if any? And why do you think this is?"
      ]
    },
    {
      "cell_type": "markdown",
      "metadata": {
        "id": "Tr67G2eb1Utm",
        "colab_type": "text"
      },
      "source": [
        "**Answer**: \n"
      ]
    },
    {
      "cell_type": "markdown",
      "metadata": {
        "id": "qVVaoQ4Y1Utn",
        "colab_type": "text"
      },
      "source": [
        "### Question 2: How did you decide on the type of model to use? "
      ]
    },
    {
      "cell_type": "markdown",
      "metadata": {
        "id": "FuGMtjWs1Uto",
        "colab_type": "text"
      },
      "source": [
        "**Answer**:\n",
        "\n"
      ]
    },
    {
      "cell_type": "markdown",
      "metadata": {
        "id": "hrwLXdT_1Utp",
        "colab_type": "text"
      },
      "source": [
        "----\n",
        "## EXERCISE: Clean up Resources\n",
        "\n",
        "After you're done evaluating your model, **delete your model endpoint**. You can do this with a call to `.delete_endpoint()`. You need to show, in this notebook, that the endpoint was deleted. Any other resources, you may delete from the AWS console, and you will find more instructions on cleaning up all your resources, below."
      ]
    },
    {
      "cell_type": "code",
      "metadata": {
        "id": "zaHI2tFj1Utq",
        "colab_type": "code",
        "colab": {}
      },
      "source": [
        "# uncomment and fill in the line below!\n",
        "predictor.delete_endpoint()\n"
      ],
      "execution_count": 0,
      "outputs": []
    },
    {
      "cell_type": "markdown",
      "metadata": {
        "id": "EDxTa1wX1Utu",
        "colab_type": "text"
      },
      "source": [
        "### Deleting S3 bucket\n",
        "\n",
        "When you are *completely* done with training and testing models, you can also delete your entire S3 bucket. If you do this before you are done training your model, you'll have to recreate your S3 bucket and upload your training data again."
      ]
    },
    {
      "cell_type": "code",
      "metadata": {
        "id": "CL1Ze_3Q1Utv",
        "colab_type": "code",
        "colab": {}
      },
      "source": [
        "# deleting bucket, uncomment lines below\n",
        "\n",
        "bucket_to_delete = boto3.resource('s3').Bucket(bucket)\n",
        "bucket_to_delete.objects.all().delete()"
      ],
      "execution_count": 0,
      "outputs": []
    },
    {
      "cell_type": "markdown",
      "metadata": {
        "id": "wKNlTXG-1Utz",
        "colab_type": "text"
      },
      "source": [
        "### Deleting all your models and instances\n",
        "\n",
        "When you are _completely_ done with this project and do **not** ever want to revisit this notebook, you can choose to delete all of your SageMaker notebook instances and models by following [these instructions](https://docs.aws.amazon.com/sagemaker/latest/dg/ex1-cleanup.html). Before you delete this notebook instance, I recommend at least downloading a copy and saving it, locally."
      ]
    },
    {
      "cell_type": "markdown",
      "metadata": {
        "id": "tV4oz7IW1Ut0",
        "colab_type": "text"
      },
      "source": [
        "---\n",
        "## Further Directions\n",
        "\n",
        "There are many ways to improve or add on to this project to expand your learning or make this more of a unique project for you. A few ideas are listed below:\n",
        "* Train a classifier to predict the *category* (1-3) of plagiarism and not just plagiarized (1) or not (0).\n",
        "* Utilize a different and larger dataset to see if this model can be extended to other types of plagiarism.\n",
        "* Use language or character-level analysis to find different (and more) similarity features.\n",
        "* Write a complete pipeline function that accepts a source text and submitted text file, and classifies the submitted text as plagiarized or not.\n",
        "* Use API Gateway and a lambda function to deploy your model to a web application.\n",
        "\n",
        "These are all just options for extending your work. If you've completed all the exercises in this notebook, you've completed a real-world application, and can proceed to submit your project. Great job!"
      ]
    }
  ]
}